{
  "cells": [
    {
      "cell_type": "markdown",
      "metadata": {
        "id": "view-in-github",
        "colab_type": "text"
      },
      "source": [
        "<a href=\"https://colab.research.google.com/github/xuebingwu/ESMScan/blob/main/colab.ipynb\" target=\"_parent\"><img src=\"https://colab.research.google.com/assets/colab-badge.svg\" alt=\"Open In Colab\"/></a>"
      ]
    },
    {
      "cell_type": "markdown",
      "metadata": {
        "id": "HBC_J9pHSp1p"
      },
      "source": [
        "\n",
        "# <font color='MediumSlateBlue '> **ESMScan**  </font> \n",
        "## Complete saturation mutagenesis using ESM\n",
        "---\n",
        "[Xuebing Wu lab @ Columbia](https://xuebingwu.github.io/)     |     [GitHub repository](https://github.com/xuebingwu/ESMScan) \n"
      ]
    },
    {
      "cell_type": "code",
      "execution_count": 3,
      "metadata": {
        "id": "D6znA5iqZu1b",
        "outputId": "d26cbc3a-0b9d-45e7-fcc8-43f234628d71",
        "colab": {
          "base_uri": "https://localhost:8080/"
        }
      },
      "outputs": [
        {
          "output_type": "stream",
          "name": "stdout",
          "text": [
            "\n",
            "\n",
            "\u001b[1m\u001b[94mOUTPUT\u001b[0m\n",
            "\n",
            "\n",
            "2023-03-31 04:00:54: Loading ESMScan\n",
            "~~~~~~~~~~~~~~~~~~~~~~~~~~~~~~~~~~~~~~~~~~~~~~~~~~~~~~~~~~~~~~\n",
            "Looking in indexes: https://pypi.org/simple, https://us-python.pkg.dev/colab-wheels/public/simple/\n",
            "Requirement already satisfied: fair-esm in /usr/local/lib/python3.9/dist-packages (2.0.0)\n",
            "Cloning into 'ESMScan'...\n",
            "remote: Enumerating objects: 13, done.\u001b[K\n",
            "remote: Counting objects: 100% (13/13), done.\u001b[K\n",
            "remote: Compressing objects: 100% (13/13), done.\u001b[K\n",
            "remote: Total 13 (delta 4), reused 0 (delta 0), pack-reused 0\u001b[K\n",
            "Unpacking objects: 100% (13/13), 29.81 KiB | 4.97 MiB/s, done.\n",
            "~~~~~~~~~~~~~~~~~~~~~~~~~~~~~~~~~~~~~~~~~~~~~~~~~~~~~~~~~~~~~~\n",
            "python /content/ESMScan/esmscan.py  \t--model-location esm1v_t33_650M_UR90S_1 \t--sequence MSHRKFSAPRHGHLGFLPHKRSHRHRGKVKTWPRDDPSQPVHLTAFLGYKAGMTHTLREVHRPGLKISKREEVEAVTIVETPPLVVVGVVGYVATPRGLRSFKTIFAEHLSDECRRRFYKDWHKSKKKAFTKACKRWRDTDGKKQLQKDFAAMKKYCKVIRVIVHTQMKLLPFRQKKAHIMEIQLNGGTVAEKVAWAQARLEKQVPVHSVFSQSEVIDVIAVTKGRGVKGVTSRWHTKKLPRKTHKGLRKVACIGAWHPARVGCSIARAGQKGYHHRTELNKKIFRIGRGPHMEDGKLVKNNASTSYDVTAKSITPLGGFPHYGEVNNDFVMLKGCIAGTKKRVITLRKSLLVHHSRQAVENIELKFIDTTSKFGHGRFQTAQEKRAFMGPQKKHLEKETPETSGDL \t--output-prefix EMSScan  \t--scoring-strategy wt-marginals \n"
          ]
        }
      ],
      "source": [
        "##@title Analyze your protein\n",
        "\n",
        "import os\n",
        "from google.colab import files\n",
        "import datetime\n",
        "import re\n",
        "\n",
        "class bcolors:\n",
        "    HEADER = '\\033[95m'\n",
        "    OKBLUE = '\\033[94m'\n",
        "    OKCYAN = '\\033[96m'\n",
        "    OKGREEN = '\\033[92m'\n",
        "    WARNING = '\\033[93m'\n",
        "    FAIL = '\\033[91m'\n",
        "    ENDC = '\\033[0m'\n",
        "    BOLD = '\\033[1m'\n",
        "    UNDERLINE = '\\033[4m'\n",
        "\n",
        "########## input \n",
        "INPUT = \"MSHRKFSAPRHGHLGFLPHKRSHRHRGKVKTWPRDDPSQPVHLTAFLGYKAGMTHTLREVHRPGLKISKREEVEAVTIVETPPLVVVGVVGYVATPRGLRSFKTIFAEHLSDECRRRFYKDWHKSKKKAFTKACKRWRDTDGKKQLQKDFAAMKKYCKVIRVIVHTQMKLLPFRQKKAHIMEIQLNGGTVAEKVAWAQARLEKQVPVHSVFSQSEVIDVIAVTKGRGVKGVTSRWHTKKLPRKTHKGLRKVACIGAWHPARVGCSIARAGQKGYHHRTELNKKIFRIGRGPHMEDGKLVKNNASTSYDVTAKSITPLGGFPHYGEVNNDFVMLKGCIAGTKKRVITLRKSLLVHHSRQAVENIELKFIDTTSKFGHGRFQTAQEKRAFMGPQKKHLEKETPETSGDL\"#@param [\"RPL3L\", \"MYC\"] {allow-input: true}\n",
        "\n",
        "#@markdown - To run: click `Runtime` -> `Run all` in the menu bar, or click the triangle play/run button on the left\n",
        "#@markdown - Input format: one raw protein sequence; space allowed\n",
        "#@markdown - Example: copy & paste a multi-line sequence from a FASTA file (without the header)\n",
        "\n",
        "seq = INPUT\n",
        "\n",
        "if seq == \"RPL3L\":\n",
        "  seq = \"MSHRKFSAPRHGHLGFLPHKRSHRHRGKVKTWPRDDPSQPVHLTAFLGYKAGMTHTLREVHRPGLKISKREEVEAVTIVETPPLVVVGVVGYVATPRGLRSFKTIFAEHLSDECRRRFYKDWHKSKKKAFTKACKRWRDTDGKKQLQKDFAAMKKYCKVIRVIVHTQMKLLPFRQKKAHIMEIQLNGGTVAEKVAWAQARLEKQVPVHSVFSQSEVIDVIAVTKGRGVKGVTSRWHTKKLPRKTHKGLRKVACIGAWHPARVGCSIARAGQKGYHHRTELNKKIFRIGRGPHMEDGKLVKNNASTSYDVTAKSITPLGGFPHYGEVNNDFVMLKGCIAGTKKRVITLRKSLLVHHSRQAVENIELKFIDTTSKFGHGRFQTAQEKRAFMGPQKKHLEKETPETSGDL\"\n",
        "elif seq == \"MYC\":\n",
        "  seq = \"\"\n",
        "else: # user input \n",
        "  # clean up sequence: upper case, remove space \n",
        "  seq = seq.upper().replace(' ','')\n",
        "  # if contains non aa letters:\n",
        "  if not all(char in 'ACDEFGHIKLMNPQRSTVWY' for char in seq):\n",
        "    print(\"\\n\\n\")\n",
        "    print('\\n'+ bcolors.BOLD +bcolors.FAIL + \"WARNING: Your sequence contains letters other than ACDEFGHIKLMNPQRSTVWY!\"+bcolors.ENDC)\n",
        "    L0  = len(seq)\n",
        "    seq = re.sub('[^ACDEFGHIKLMNPQRSTVWY]+', '', seq)\n",
        "    L1 = len(seq)\n",
        "    print(L0-L1,'non-aa letters removed!'+bcolors.ENDC)\n",
        "    exit()\n",
        "\n",
        "print('\\n\\n'+ bcolors.BOLD +bcolors.OKBLUE + \"OUTPUT\"  +bcolors.ENDC)\n",
        "\n",
        "######### options\n",
        "\n",
        "# set model\n",
        "MODEL = \"esm1v_t33_650M_UR90S_1\" #@param [\"esm1v_t33_650M_UR90S_1\", \"Other\"]\n",
        "##@markdown - *Usage*: predict tissue-specific usage of a splice site (default).  \n",
        "##@markdown - *P(splice)*: predict tissue-specific probability of a site being spliced\n",
        "\n",
        "if not os.path.exists(\"ESMScan\"):\n",
        "  print(\"\\n\")\n",
        "  print(datetime.datetime.now().strftime(\"%Y-%m-%d %H:%M:%S\")+': Loading ESMScan')\n",
        "  print(\"~~~~~~~~~~~~~~~~~~~~~~~~~~~~~~~~~~~~~~~~~~~~~~~~~~~~~~~~~~~~~~\")\n",
        "  !pip install fair-esm \n",
        "  !git clone https://github.com/xuebingwu/ESMScan.git\n",
        "  print(\"~~~~~~~~~~~~~~~~~~~~~~~~~~~~~~~~~~~~~~~~~~~~~~~~~~~~~~~~~~~~~~\")\n",
        "\n",
        "from pkg_resources import resource_filename\n",
        "\n",
        "cmd=\"python /content/ESMScan/esmscan.py \\\n",
        " \t--model-location \"+MODEL+\" \\\n",
        "\t--sequence \"+seq+\" \\\n",
        "\t--output-prefix ESMScan  \\\n",
        "\t--scoring-strategy wt-marginals \"\n",
        "\n",
        "print(cmd)\n",
        "os.system(cmd)\n",
        "\n",
        "# print out predicted sites\n",
        "if os.path.exists('predicted_splice_sites.txt'):\n",
        "  os.system(f'zip res.zip *.pdf *.csv')\n",
        "  files.download(f\"res.zip\")"
      ]
    },
    {
      "cell_type": "markdown",
      "source": [
        "# About <a name=\"Instructions\"></a>\n",
        "\n",
        "**Applications**\n",
        "* Identify potential splicing artifacts in plasmid reporters.\n",
        "\n",
        "\n",
        "**Limitations**\n",
        "* A gmail account is required to run Google Colab notebooks.\n",
        "* This notebook was designed for analyzing a single sequence. \n",
        "* Only sequences of length 1-150,000 bases have been tested. Longer sequences may fail due to a lack of memory.\n",
        "* The first run is slow due to the need to install the `Pangolin` package.  \n",
        "* GPU may not be available and running the prediction on CPU will be significantly slower. \n",
        "* Your browser can block the pop-up for downloading the result file. You can choose the `save_to_google_drive` option to upload to Google Drive instead or manually download the result file: Click on the little folder icon to the left, navigate to file: `res.zip`, right-click and select \\\"Download\\\".\n",
        "\n",
        "\n",
        "**Bugs**\n",
        "- If you encounter any bugs, please report the issue by emailing Xuebing Wu (xw2629 at cumc dot columbia dot edu)\n",
        "\n",
        "**License**\n",
        "\n",
        "* The source code of this notebook is licensed under [MIT](https://raw.githubusercontent.com/sokrypton/ColabFold/main/LICENSE). See details of the license for Pangolin [here](https://github.com/tkzeng/Pangolin/blob/main/LICENSE).\n",
        "\n",
        "**Acknowledgments**\n",
        "- We thank the [Pangolin](https://doi.org/10.1186/s13059-022-02664-4) team for developing an excellent model and open sourcing the software. \n",
        "\n",
        "- This notebook is modeld after the [ColabFold notebook](https://colab.research.google.com/github/sokrypton/ColabFold/blob/main/AlphaFold2.ipynb).\n"
      ],
      "metadata": {
        "id": "Cz3dcAlurVqE"
      }
    }
  ],
  "metadata": {
    "accelerator": "GPU",
    "colab": {
      "provenance": [],
      "authorship_tag": "ABX9TyPpW3Z/l1I8gwg9a3LeYw3a",
      "include_colab_link": true
    },
    "gpuClass": "standard",
    "kernelspec": {
      "display_name": "Python 3",
      "name": "python3"
    },
    "language_info": {
      "name": "python"
    }
  },
  "nbformat": 4,
  "nbformat_minor": 0
}