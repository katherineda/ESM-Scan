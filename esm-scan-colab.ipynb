{
  "cells": [
    {
      "cell_type": "markdown",
      "metadata": {
        "id": "view-in-github",
        "colab_type": "text"
      },
      "source": [
        "<a href=\"https://colab.research.google.com/github/xuebingwu/ESM-Scan/blob/main/esm-scan-colab.ipynb\" target=\"_parent\"><img src=\"https://colab.research.google.com/assets/colab-badge.svg\" alt=\"Open In Colab\"/></a>"
      ]
    },
    {
      "cell_type": "markdown",
      "metadata": {
        "id": "HBC_J9pHSp1p"
      },
      "source": [
        "# <font color='MediumSlateBlue '> **ESM-Scan**  </font> \n",
        "## Complete saturation mutagenesis of a protein using ESM\n",
        "---\n",
        "[Xuebing Wu lab @ Columbia](https://xuebingwu.github.io/)     |     [GitHub repository](https://github.com/xuebingwu/ESMScan) "
      ]
    },
    {
      "cell_type": "code",
      "execution_count": null,
      "metadata": {
        "id": "D6znA5iqZu1b",
        "outputId": "6ad89fcf-0f8a-4462-fd3b-22c638653d01",
        "colab": {
          "base_uri": "https://localhost:8080/"
        },
        "cellView": "form"
      },
      "outputs": [
        {
          "output_type": "stream",
          "name": "stdout",
          "text": [
            "\n",
            "\n",
            "\u001b[1m\u001b[94mDownloading pre-trained ESM model\u001b[0m\n",
            "--2023-03-31 17:37:49--  https://dl.fbaipublicfiles.com/fair-esm/models/esm1v_t33_650M_UR90S_1.pt\n",
            "Resolving dl.fbaipublicfiles.com (dl.fbaipublicfiles.com)... 13.35.8.51, 13.35.8.29, 13.35.8.35, ...\n",
            "Connecting to dl.fbaipublicfiles.com (dl.fbaipublicfiles.com)|13.35.8.51|:443... connected.\n",
            "HTTP request sent, awaiting response... 200 OK\n",
            "Length: 7828635339 (7.3G) [binary/octet-stream]\n",
            "Saving to: ‘esm1v_t33_650M_UR90S_1.pt’\n",
            "\n",
            "       esm1v_t33_65  31%[=====>              ]   2.32G   255MB/s    eta 21s    "
          ]
        }
      ],
      "source": [
        "##@title Analyze your protein\n",
        "\n",
        "import os\n",
        "from google.colab import files\n",
        "import datetime\n",
        "import re\n",
        "\n",
        "class bcolors:\n",
        "    HEADER = '\\033[95m'\n",
        "    OKBLUE = '\\033[94m'\n",
        "    OKCYAN = '\\033[96m'\n",
        "    OKGREEN = '\\033[92m'\n",
        "    WARNING = '\\033[93m'\n",
        "    FAIL = '\\033[91m'\n",
        "    ENDC = '\\033[0m'\n",
        "    BOLD = '\\033[1m'\n",
        "    UNDERLINE = '\\033[4m'\n",
        "\n",
        "########## input \n",
        "INPUT = \"MDFFRVVENQQPPATMPLNVSFTNRNYDLDYDSVQPYFYCDEEENFYQQQQQSELQPPAPSEDIWKKFEL LPTPPLSPSRRSGLCSPSYVAVTPFSLRGDNDGGGGSFSTADQLEMVTELLGGDMVNQSFICDPDDETFI KNIIIQDCMWSGFSAAAKLVSEKLASYQAARKDSGSPNPARGHSVCSTSSLYLQDLSAAASECIDPSVVF PYPLNDSSSPKSCASQDSSAFSPSSDSLLSSTESSPQGSPEPLVLHEETPPTTSSDSEEEQEDEEEIDVV SVEKRQAPGKRSESGSPSAGGHSKPPHSPLVLKRCHVSTHQHNYAAPPSTRKDYPAAKRVKLDSVRVLRQ ISNNRKCTSPRSSDTEENVKRRTHNVLERQRRNELKRSFFALRDQIPELENNEKAPKVVILKKATAYILS VQAEEQKLISEEDLLRKRREQLKHKLEQLRNSCA\"#@param [\"RPL3L\", \"MYC\"] {allow-input: true}\n",
        "\n",
        "#@markdown - Input format: one raw protein sequence; space allowed\n",
        "#@markdown - Example: copy & paste a multi-line sequence from a FASTA file (without the header)\n",
        "#@markdown - To run: click `Runtime` -> `Run all` in the menu bar, or click the triangle play/run button on the left\n",
        "\n",
        "seq = INPUT\n",
        "\n",
        "if seq == \"RPL3L\":\n",
        "  seq = \"MSHRKFSAPRHGHLGFLPHKRSHRHRGKVKTWPRDDPSQPVHLTAFLGYKAGMTHTLREVHRPGLKISKREEVEAVTIVETPPLVVVGVVGYVATPRGLRSFKTIFAEHLSDECRRRFYKDWHKSKKKAFTKACKRWRDTDGKKQLQKDFAAMKKYCKVIRVIVHTQMKLLPFRQKKAHIMEIQLNGGTVAEKVAWAQARLEKQVPVHSVFSQSEVIDVIAVTKGRGVKGVTSRWHTKKLPRKTHKGLRKVACIGAWHPARVGCSIARAGQKGYHHRTELNKKIFRIGRGPHMEDGKLVKNNASTSYDVTAKSITPLGGFPHYGEVNNDFVMLKGCIAGTKKRVITLRKSLLVHHSRQAVENIELKFIDTTSKFGHGRFQTAQEKRAFMGPQKKHLEKETPETSGDL\"\n",
        "elif seq == \"MYC\":\n",
        "  seq = \"MDFFRVVENQQPPATMPLNVSFTNRNYDLDYDSVQPYFYCDEEENFYQQQQQSELQPPAPSEDIWKKFELLPTPPLSPSRRSGLCSPSYVAVTPFSLRGDNDGGGGSFSTADQLEMVTELLGGDMVNQSFICDPDDETFIKNIIIQDCMWSGFSAAAKLVSEKLASYQAARKDSGSPNPARGHSVCSTSSLYLQDLSAAASECIDPSVVFPYPLNDSSSPKSCASQDSSAFSPSSDSLLSSTESSPQGSPEPLVLHEETPPTTSSDSEEEQEDEEEIDVVSVEKRQAPGKRSESGSPSAGGHSKPPHSPLVLKRCHVSTHQHNYAAPPSTRKDYPAAKRVKLDSVRVLRQISNNRKCTSPRSSDTEENVKRRTHNVLERQRRNELKRSFFALRDQIPELENNEKAPKVVILKKATAYILSVQAEEQKLISEEDLLRKRREQLKHKLEQLRNSCA\"\n",
        "else: # user input \n",
        "  # clean up sequence: upper case, remove space \n",
        "  seq = seq.upper().replace(' ','')\n",
        "  # if contains non aa letters:\n",
        "  if not all(char in 'ACDEFGHIKLMNPQRSTVWY' for char in seq):\n",
        "    print(\"\\n\\n\")\n",
        "    print('\\n'+ bcolors.BOLD +bcolors.FAIL + \"WARNING: Your sequence contains letters other than ACDEFGHIKLMNPQRSTVWY!\"+bcolors.ENDC)\n",
        "    L0  = len(seq)\n",
        "    seq = re.sub('[^ACDEFGHIKLMNPQRSTVWY]+', '', seq)\n",
        "    L1 = len(seq)\n",
        "    print(L0-L1,'non-aa letters removed!'+bcolors.ENDC)\n",
        "    exit()\n",
        "\n",
        "######### options\n",
        "\n",
        "# set model\n",
        "MODEL = \"esm1v_t33_650M_UR90S_1\" #@param [\"esm1v_t33_650M_UR90S_1\", \"esm2_t33_650M_UR50D\"]\n",
        "##@markdown - *Usage*: predict tissue-specific usage of a splice site (default).  \n",
        "##@markdown - *P(splice)*: predict tissue-specific probability of a site being spliced\n",
        "\n",
        "if not os.path.exists(\"ESM-Scan\"):\n",
        "  print(\"\\n\")\n",
        "  print('\\n\\n'+ bcolors.BOLD +bcolors.OKBLUE + \"Installing packages\"  +bcolors.ENDC)\n",
        "  print(datetime.datetime.now().strftime(\"%Y-%m-%d %H:%M:%S\"))\n",
        "  print(\"~~~~~~~~~~~~~~~~~~~~~~~~~~~~~~~~~~~~~~~~~~~~~~~~~~~~~~~~~~~~~~\")\n",
        "  !pip install biopython\n",
        "  !pip install fair-esm \n",
        "  !git clone https://github.com/xuebingwu/ESM-Scan.git\n",
        "  !cd /content\n",
        "  print(\"~~~~~~~~~~~~~~~~~~~~~~~~~~~~~~~~~~~~~~~~~~~~~~~~~~~~~~~~~~~~~~\")\n",
        "\n",
        "model_location=\"/content/\"+MODEL+\".pt\"\n",
        "if not os.path.exists(model_location ):\n",
        "  print('\\n\\n'+ bcolors.BOLD +bcolors.OKBLUE + \"Downloading pre-trained ESM model\"  +bcolors.ENDC)\n",
        "  if MODEL == \"esm2_t33_650M_UR50D\":\n",
        "    !wget https://dl.fbaipublicfiles.com/fair-esm/models/esm2_t33_650M_UR50D.pt\n",
        "  else:\n",
        "    !wget https://dl.fbaipublicfiles.com/fair-esm/models/esm1v_t33_650M_UR90S_1.pt\n",
        "\n",
        "print('\\n\\n'+ bcolors.BOLD +bcolors.OKBLUE + \"Running saturation mutagenesis\"  +bcolors.ENDC)\n",
        "\n",
        "cmd=\"python /content/ESM-Scan/esmscan.py --model-location \"+model_location+\" --output-prefix ESMScan --scoring-strategy wt-marginals --sequence \"+seq\n",
        "\n",
        "print(cmd)\n",
        "\n",
        "import subprocess \n",
        "\n",
        "proc = subprocess.Popen([cmd], stdout=subprocess.PIPE, shell=True) \n",
        "\n",
        "(out, err) = proc.communicate() \n",
        "print(\"program output:\", out)\n",
        "print(\"program error:\", err)\n",
        "\n",
        "#os.system(cmd)\n",
        "\n",
        "print('\\n\\n'+ bcolors.BOLD +bcolors.OKBLUE + \"Downloading results\"  +bcolors.ENDC)\n",
        "\n",
        "if os.path.exists('ESMScan-saturation-mutagenesis.pdf'):\n",
        "  os.system(f'zip res.zip *.pdf *.csv')\n",
        "  files.download(f\"res.zip\")\n",
        "  print(datetime.datetime.now().strftime(\"%Y-%m-%d %H:%M:%S\")+': Done! Please see results in res.zip')\n",
        "else:\n",
        "  print(datetime.datetime.now().strftime(\"%Y-%m-%d %H:%M:%S\")+': No output files generated')\n"
      ]
    },
    {
      "cell_type": "markdown",
      "source": [
        "# About <a name=\"Instructions\"></a>\n",
        "\n",
        "**Applications**\n",
        "* Identify potential splicing artifacts in plasmid reporters.\n",
        "\n",
        "\n",
        "**Limitations**\n",
        "* A gmail account is required to run Google Colab notebooks.\n",
        "* This notebook was designed for analyzing a single sequence. \n",
        "* Only sequences of length 1-150,000 bases have been tested. Longer sequences may fail due to a lack of memory.\n",
        "* The first run is slow due to the need to install the `Pangolin` package.  \n",
        "* GPU may not be available and running the prediction on CPU will be significantly slower. \n",
        "* Your browser can block the pop-up for downloading the result file. You can choose the `save_to_google_drive` option to upload to Google Drive instead or manually download the result file: Click on the little folder icon to the left, navigate to file: `res.zip`, right-click and select \\\"Download\\\".\n",
        "\n",
        "\n",
        "**Bugs**\n",
        "- If you encounter any bugs, please report the issue by emailing Xuebing Wu (xw2629 at cumc dot columbia dot edu)\n",
        "\n",
        "**License**\n",
        "\n",
        "* The source code of this notebook is licensed under [MIT](https://raw.githubusercontent.com/sokrypton/ColabFold/main/LICENSE). See details of the license for Pangolin [here](https://github.com/tkzeng/Pangolin/blob/main/LICENSE).\n",
        "\n",
        "**Acknowledgments**\n",
        "- We thank the [Pangolin](https://doi.org/10.1186/s13059-022-02664-4) team for developing an excellent model and open sourcing the software. \n",
        "\n",
        "- This notebook is modeld after the [ColabFold notebook](https://colab.research.google.com/github/sokrypton/ColabFold/blob/main/AlphaFold2.ipynb).\n"
      ],
      "metadata": {
        "id": "Cz3dcAlurVqE"
      }
    }
  ],
  "metadata": {
    "accelerator": "GPU",
    "colab": {
      "provenance": [],
      "authorship_tag": "ABX9TyMsBBpl/8hAVMhS5DlJJhrA",
      "include_colab_link": true
    },
    "gpuClass": "standard",
    "kernelspec": {
      "display_name": "Python 3",
      "name": "python3"
    },
    "language_info": {
      "name": "python"
    }
  },
  "nbformat": 4,
  "nbformat_minor": 0
}